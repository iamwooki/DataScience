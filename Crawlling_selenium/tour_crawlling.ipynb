{
 "cells": [
  {
   "cell_type": "markdown",
   "metadata": {},
   "source": [
    "# 인터파크 여행 투어 크롤링_selenium with bs4"
   ]
  },
  {
   "cell_type": "markdown",
   "metadata": {},
   "source": [
    "from https://tacademy.skplanet.com/live/player/onlineLectureDetail.action?seq=133\n",
    "\n",
    "ref : https://beomi.github.io/2017/09/28/HowToMakeWebCrawler-Headless-Chrome/\n",
    "\n",
    "인터파크 투어 사이트에서 여행지 입력후 검색 - 잠시후 - 결과\n",
    "로그인 시 웹사이트에서 처리가 어려울 경우 - 모바일 로그 인 진입\n",
    "\n",
    "자제 => (클라우드페어의 디도스 방어는 10초정도 대기로 봄)"
   ]
  },
  {
   "cell_type": "code",
   "execution_count": 8,
   "metadata": {},
   "outputs": [],
   "source": [
    "#conda install selenium"
   ]
  },
  {
   "cell_type": "code",
   "execution_count": 79,
   "metadata": {},
   "outputs": [],
   "source": [
    "from selenium import webdriver as wd\n",
    "import time\n",
    "from selenium.webdriver.common.by import By\n",
    "#명시적 대기\n",
    "from selenium.webdriver.support.ui import WebDriverWait\n",
    "from selenium.webdriver.support import expected_conditions as EC\n",
    "import pandas as pd\n",
    "from bs4 import BeautifulSoup as bs\n",
    "from tqdm import tqdm"
   ]
  },
  {
   "cell_type": "code",
   "execution_count": 44,
   "metadata": {},
   "outputs": [],
   "source": [
    "#상품 정보를 담는 클래스\n",
    "class TourInfo:\n",
    "    #member var\n",
    "    img = ''\n",
    "    title = ''\n",
    "    link = ''\n",
    "    #constructor\n",
    "    def __init__(self, img, title,link):\n",
    "        self.img = img\n",
    "        self.title = title\n",
    "        self.link = link\n",
    "        "
   ]
  },
  {
   "cell_type": "code",
   "execution_count": 81,
   "metadata": {},
   "outputs": [
    {
     "name": "stdout",
     "output_type": "stream",
     "text": [
      "error __init__() takes 2 positional arguments but 3 were given\n",
      "22\n"
     ]
    }
   ],
   "source": [
    "#사전에 필요한 정보 로드 = 디비혹스 쉘, 베치 파일에서 인자로 받아서 세팅\n",
    "main_url = 'http://tour.interpark.com/'\n",
    "keyword = '일본'\n",
    "#상품 정보를 담는 리스트\n",
    "tour_list = []\n",
    "\n",
    "#드라이버 로드\n",
    "driver = wd.Chrome(executable_path='./chromedriver')\n",
    "#차후 : 옵션부여하여(프록시, 에이전트 조작, 이미지를 배제)\n",
    "#크롤링을 오래 돌리면 임시파일들이 쌓인다 : 템프 지우기 (관리적으로 수동삭제)\n",
    "\n",
    "#사이트 접속 (get)\n",
    "driver.get(main_url)\n",
    "# id : SearchGNBText\n",
    "#검색창을 찾아서 검색어 입력\n",
    "driver.find_element_by_id('SearchGNBText').send_keys(keyword)\n",
    "#수정할 경우 뒤에 내용이 붙으므로 .clear() -> .send_keys()\n",
    "driver.find_element_by_css_selector('.search-btn').click() #button.search-btn\n",
    "#명시적 대기 : 특정요소가 로케이트(발견될때까지) 대기\n",
    "\n",
    "\n",
    "try:\n",
    "    element = WebDriverWait(driver, 10).until(\n",
    "        #지정한 한개 요소가 오면 웨이트 종료\n",
    "        #EC.presence_of_element_located(By.XPATH,'/html/body/div[3]/div/div/div[5]/div[4]/ul/li[6]/button')\n",
    "        EC.presence_of_element_located(By.ID,'oTravelBox')\n",
    "    )\n",
    "except Exception as e:\n",
    "    print('error',e)\n",
    "    \n",
    "#암시적 대기 : DOM이 다 로드될 때까지 대기하고 먼저 로드되면 바로 진행\n",
    "driver.implicitly_wait(10)\n",
    "#절대적 대기 : time.sleep() \n",
    "\n",
    "driver.find_element_by_css_selector('.oTravelBox>.boxList>.moreBtnWrap>.moreBtn').click()\n",
    "\n",
    "#게시판에서 데이터를 가져올대\n",
    "#데이터가 많으면 세션(혹시 로그인을해서 접근되는 사이트일 경우) 관리\n",
    "#특정 단위별로 로그아웃 로그인 계속 시도\n",
    "#특정 게시물이 사라질 경우팝업 발생(없는. ..) -> 팝업 처리 검토\n",
    "#게시판 스캔 시 임계점을 모름\n",
    "#게시판 스캔 => 메타 정보 획득 => loop를 돌려 일괄적으로 방문 접근 처리\n",
    "\n",
    "#searchModule.SetCategoryList(1, '')\n",
    "#16은 임시 값, 게시물을 넘어갔을 때 현상을 확인 차\n",
    "for page in range(1,3):\n",
    "    try:\n",
    "        #자바스크립트 구동하기\n",
    "        driver.execute_script(\"searchModule.SetCategoryList(%s, '')\" % page)\n",
    "        time.sleep(1)\n",
    "        ##############\n",
    "        #여러 사이트에서 정보를 수집할 경우 공통 정보 정의 단계 필요\n",
    "        boxItems = driver.find_elements_by_css_selector('.oTravelBox>.boxList>li')\n",
    "        # 상품 하나하나 접근\n",
    "        for li in boxItems:\n",
    "            obj = TourInfo(\n",
    "                #복수로 불러오고 싶으면 find_elements~~\n",
    "                li.find_element_by_css_selector('img').get_attribute('src'),\n",
    "                li.find_element_by_css_selector('h5.proTit').text,\n",
    "                li.find_element_by_css_selector('a').get_attribute('onclick')\n",
    "            )\n",
    "            tour_list.append(obj)\n",
    "    except Exception as e1:\n",
    "        print(\"error\",e1)\n",
    "    \n",
    "    \n",
    "print(len(tour_list))"
   ]
  },
  {
   "cell_type": "code",
   "execution_count": 82,
   "metadata": {},
   "outputs": [
    {
     "name": "stderr",
     "output_type": "stream",
     "text": [
      "\n",
      "  0%|          | 0/22 [00:00<?, ?it/s]\u001b[A\n",
      "  5%|▍         | 1/22 [00:08<02:56,  8.41s/it]\u001b[A"
     ]
    },
    {
     "name": "stdout",
     "output_type": "stream",
     "text": [
      "티웨이항공, 이스타항공, 진에어항공\n"
     ]
    },
    {
     "name": "stderr",
     "output_type": "stream",
     "text": [
      "\n",
      "  9%|▉         | 2/22 [00:13<02:25,  7.28s/it]\u001b[A"
     ]
    },
    {
     "name": "stdout",
     "output_type": "stream",
     "text": [
      "티웨이항공\n"
     ]
    },
    {
     "name": "stderr",
     "output_type": "stream",
     "text": [
      "\n",
      " 14%|█▎        | 3/22 [00:17<02:02,  6.43s/it]\u001b[A"
     ]
    },
    {
     "name": "stdout",
     "output_type": "stream",
     "text": [
      "인천-오사카/아시아나 왕복\n"
     ]
    },
    {
     "name": "stderr",
     "output_type": "stream",
     "text": [
      "\n",
      " 18%|█▊        | 4/22 [00:22<01:47,  5.95s/it]\u001b[A"
     ]
    },
    {
     "name": "stdout",
     "output_type": "stream",
     "text": [
      "이스타항공\n"
     ]
    },
    {
     "name": "stderr",
     "output_type": "stream",
     "text": [
      "\n",
      " 23%|██▎       | 5/22 [00:26<01:32,  5.46s/it]\u001b[A"
     ]
    },
    {
     "name": "stdout",
     "output_type": "stream",
     "text": [
      "이스타항공 왕복, 오전출발 오후리턴으로 알찬일정\n"
     ]
    },
    {
     "name": "stderr",
     "output_type": "stream",
     "text": [
      "\n",
      " 27%|██▋       | 6/22 [00:31<01:23,  5.20s/it]\u001b[A"
     ]
    },
    {
     "name": "stdout",
     "output_type": "stream",
     "text": [
      "아시아나항공\n"
     ]
    },
    {
     "name": "stderr",
     "output_type": "stream",
     "text": [
      "\n",
      " 32%|███▏      | 7/22 [00:36<01:19,  5.28s/it]\u001b[A"
     ]
    },
    {
     "name": "stdout",
     "output_type": "stream",
     "text": [
      "인천-오사카 왕복 항공\n"
     ]
    },
    {
     "name": "stderr",
     "output_type": "stream",
     "text": [
      "\n",
      " 36%|███▋      | 8/22 [00:42<01:14,  5.34s/it]\u001b[A"
     ]
    },
    {
     "name": "stdout",
     "output_type": "stream",
     "text": [
      "국적기 진에어항공 [인천-오키나와 직항]\n"
     ]
    },
    {
     "name": "stderr",
     "output_type": "stream",
     "text": [
      "\n",
      " 41%|████      | 9/22 [00:46<01:06,  5.14s/it]\u001b[A"
     ]
    },
    {
     "name": "stdout",
     "output_type": "stream",
     "text": [
      "이스타항공\n"
     ]
    },
    {
     "name": "stderr",
     "output_type": "stream",
     "text": [
      "\n",
      " 45%|████▌     | 10/22 [00:53<01:05,  5.46s/it]\u001b[A"
     ]
    },
    {
     "name": "stdout",
     "output_type": "stream",
     "text": [
      "이스타항공\n"
     ]
    },
    {
     "name": "stderr",
     "output_type": "stream",
     "text": [
      "\n",
      " 50%|█████     | 11/22 [00:57<00:55,  5.04s/it]\u001b[A"
     ]
    },
    {
     "name": "stdout",
     "output_type": "stream",
     "text": [
      "제주항공 탑승\n"
     ]
    },
    {
     "name": "stderr",
     "output_type": "stream",
     "text": [
      "\n",
      " 55%|█████▍    | 12/22 [01:00<00:44,  4.41s/it]\u001b[A"
     ]
    },
    {
     "name": "stdout",
     "output_type": "stream",
     "text": [
      "티웨이항공, 이스타항공, 진에어항공\n"
     ]
    },
    {
     "name": "stderr",
     "output_type": "stream",
     "text": [
      "\n",
      " 59%|█████▉    | 13/22 [01:03<00:37,  4.20s/it]\u001b[A"
     ]
    },
    {
     "name": "stdout",
     "output_type": "stream",
     "text": [
      "아시아나항공 오전출발-오후리턴\n"
     ]
    },
    {
     "name": "stderr",
     "output_type": "stream",
     "text": [
      "\n",
      " 64%|██████▎   | 14/22 [01:10<00:39,  4.95s/it]\u001b[A"
     ]
    },
    {
     "name": "stdout",
     "output_type": "stream",
     "text": [
      "아시아나항공\n"
     ]
    },
    {
     "name": "stderr",
     "output_type": "stream",
     "text": [
      "\n",
      " 68%|██████▊   | 15/22 [01:16<00:36,  5.26s/it]\u001b[A"
     ]
    },
    {
     "name": "stdout",
     "output_type": "stream",
     "text": [
      "DBS크루즈 [동해항-사카이미나토항-동해항]\n"
     ]
    },
    {
     "name": "stderr",
     "output_type": "stream",
     "text": [
      "\n",
      " 73%|███████▎  | 16/22 [01:19<00:27,  4.58s/it]\u001b[A"
     ]
    },
    {
     "name": "stdout",
     "output_type": "stream",
     "text": [
      "이스타 항공\n"
     ]
    },
    {
     "name": "stderr",
     "output_type": "stream",
     "text": [
      "\n",
      " 77%|███████▋  | 17/22 [01:22<00:20,  4.12s/it]\u001b[A"
     ]
    },
    {
     "name": "stdout",
     "output_type": "stream",
     "text": [
      "티웨이항공\n"
     ]
    },
    {
     "name": "stderr",
     "output_type": "stream",
     "text": [
      "\n",
      " 82%|████████▏ | 18/22 [01:27<00:17,  4.40s/it]\u001b[A"
     ]
    },
    {
     "name": "stdout",
     "output_type": "stream",
     "text": [
      "에어서울 탑승\n"
     ]
    },
    {
     "name": "stderr",
     "output_type": "stream",
     "text": [
      "\n",
      " 86%|████████▋ | 19/22 [01:31<00:12,  4.27s/it]\u001b[A"
     ]
    },
    {
     "name": "stdout",
     "output_type": "stream",
     "text": [
      "DBS크루즈 [동해항-사카이미나토항-동해항]\n"
     ]
    },
    {
     "name": "stderr",
     "output_type": "stream",
     "text": [
      "\n",
      " 91%|█████████ | 20/22 [01:34<00:07,  3.89s/it]\u001b[A"
     ]
    },
    {
     "name": "stdout",
     "output_type": "stream",
     "text": [
      "인천-오사카 왕복 항공\n"
     ]
    },
    {
     "name": "stderr",
     "output_type": "stream",
     "text": [
      "\n",
      " 95%|█████████▌| 21/22 [01:38<00:03,  3.85s/it]\u001b[A"
     ]
    },
    {
     "name": "stdout",
     "output_type": "stream",
     "text": [
      "티웨이항공\n"
     ]
    },
    {
     "name": "stderr",
     "output_type": "stream",
     "text": [
      "\n",
      "100%|██████████| 22/22 [01:41<00:00,  4.64s/it]\u001b[A"
     ]
    },
    {
     "name": "stdout",
     "output_type": "stream",
     "text": [
      "진에어\n"
     ]
    },
    {
     "name": "stderr",
     "output_type": "stream",
     "text": [
      "\n"
     ]
    },
    {
     "ename": "SystemExit",
     "evalue": "",
     "output_type": "error",
     "traceback": [
      "An exception has occurred, use %tb to see the full traceback.\n",
      "\u001b[0;31mSystemExit\u001b[0m\n"
     ]
    },
    {
     "name": "stderr",
     "output_type": "stream",
     "text": [
      "/Users/hyunwook/opt/anaconda3/lib/python3.7/site-packages/IPython/core/interactiveshell.py:3334: UserWarning: To exit: use 'exit', 'quit', or Ctrl-D.\n",
      "  warn(\"To exit: use 'exit', 'quit', or Ctrl-D.\", stacklevel=1)\n"
     ]
    }
   ],
   "source": [
    "#수집한 정보 개수를 루프 = 페이지 방문, 컨텐츠 획득(상품상세정보)\n",
    "for tour in tqdm(tour_list):\n",
    "    #tour =>TourInfo\n",
    "    #print(type(tour))\n",
    "    #분해\n",
    "    arr = tour.link.split(',')\n",
    "\n",
    "    if arr:\n",
    "        #대체\n",
    "        link = arr[0].replace('searchModule.OnClickDetail(','')\n",
    "        detail_url = link[1:-1]\n",
    "        #상세 페이지 이동\n",
    "        driver.get( detail_url )\n",
    "        time.sleep(1)\n",
    "        #print(driver.page_source)\n",
    "        soup = bs( driver.page_source, 'html.parser')\n",
    "        #현재 상세 정보 페이지에서 스케줄 정보 획득\n",
    "        try:\n",
    "            data = soup.select('#dBody > div.default-section.goods-info > div.info-list > div.prodFeatureDetails > table > tbody > tr:nth-child(1) > td:nth-child(2)')\n",
    "            print( data[0].text )\n",
    "        except Exception as e:\n",
    "            print('항로편이 존재하지 않음',e)\n",
    "            \n",
    "        \n",
    "#종료\n",
    "driver.close()\n",
    "driver.quit()\n",
    "import sys\n",
    "sys.exit()"
   ]
  },
  {
   "cell_type": "code",
   "execution_count": null,
   "metadata": {},
   "outputs": [],
   "source": []
  }
 ],
 "metadata": {
  "kernelspec": {
   "display_name": "Python 3",
   "language": "python",
   "name": "python3"
  },
  "language_info": {
   "codemirror_mode": {
    "name": "ipython",
    "version": 3
   },
   "file_extension": ".py",
   "mimetype": "text/x-python",
   "name": "python",
   "nbconvert_exporter": "python",
   "pygments_lexer": "ipython3",
   "version": "3.7.4"
  }
 },
 "nbformat": 4,
 "nbformat_minor": 2
}
