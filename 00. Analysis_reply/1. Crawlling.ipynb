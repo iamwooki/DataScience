{
 "cells": [
  {
   "cell_type": "markdown",
   "metadata": {},
   "source": [
    "인프런 2020년 새해 다짐 이벤트 댓글 크롤링\n",
    "=============================="
   ]
  },
  {
   "cell_type": "code",
   "execution_count": 26,
   "metadata": {},
   "outputs": [],
   "source": [
    "#conda install requests"
   ]
  },
  {
   "cell_type": "code",
   "execution_count": 23,
   "metadata": {},
   "outputs": [],
   "source": [
    "#conda install BeautifulSoup4"
   ]
  },
  {
   "cell_type": "code",
   "execution_count": 24,
   "metadata": {},
   "outputs": [],
   "source": [
    "#conda install pandas"
   ]
  },
  {
   "cell_type": "code",
   "execution_count": 25,
   "metadata": {},
   "outputs": [],
   "source": [
    "#conda install tqdm"
   ]
  },
  {
   "cell_type": "code",
   "execution_count": 6,
   "metadata": {},
   "outputs": [],
   "source": [
    "import requests\n",
    "\n",
    "from bs4 import BeautifulSoup as bs\n",
    "import pandas as pd\n",
    "from tqdm import trange"
   ]
  },
  {
   "cell_type": "code",
   "execution_count": 9,
   "metadata": {},
   "outputs": [],
   "source": [
    "#when you do crawlling, you must check robot.txt of the target web site\n",
    "base_url = \"https://www.inflearn.com/pages/newyear-event-20200102\"\n",
    "response = requests.get( base_url )\n",
    "soup = bs(response.text, 'html.parser')"
   ]
  },
  {
   "cell_type": "code",
   "execution_count": 14,
   "metadata": {},
   "outputs": [
    {
     "data": {
      "text/plain": [
       "<div class=\"chitchat-item\">\n",
       "<figure class=\"image is-48x48\">\n",
       "<img alt=\"인프런\" class=\"user_thumb is-rounded\" src=\"https://cdn.inflearn.com/wp-content/uploads/avatars/17/b415d9fa24d186c4adf22ca9a49116b5-bpfull.png\"/>\n",
       "</figure>\n",
       "<div class=\"content\">\n",
       "<div class=\"author\">\n",
       "<span class=\"author_name\">인프런</span>\n",
       "<time class=\"created_at\" datetime=\"Sun Dec 29 2019 17:59:00 GMT+0900 (GMT+09:00)\">⋅ 약 2개월 전</time>\n",
       "<a class=\"update-chitchat edit-chitchat is-hidden\" data-id=\"18594\" type=\"button\">저장</a>\n",
       "<a class=\"hidden-editor edit-chitchat is-hidden\" type=\"button\">취소</a>\n",
       "<a class=\"edit-chitchat no_cmt_reply\" type=\"button\">답글달기</a>\n",
       "</div>\n",
       "<div class=\"body edit-chitchat\">인프런 0호 팀원이에요!\n",
       "그동안 서비스 개발 때문에 js 를 많이 했었는데 앞으론 통계나 분석을 많이 하고 싶어서 파이썬을 공부하고 싶어요! 올해 파이썬 마스터가 되는걸로..\n",
       "#관심강의: 남박사의 파이썬 활용</div>\n",
       "<textarea class=\"textarea edit-chitchat is-hidden\"></textarea>\n",
       "<div class=\"summary_comments\">\n",
       "</div>\n",
       "<div class=\"chitchats_and_editor is-hidden\">\n",
       "<div class=\"chitchat-comment-list\">\n",
       "</div>\n",
       "<div class=\"cmt-editor\">\n",
       "<div class=\"field\">\n",
       "<textarea class=\"textarea\" placeholder=\"내용을 입력해 주세요.\"></textarea>\n",
       "</div>\n",
       "<button class=\"insert-chitchat-cmt button\" data-post_id=\"18594\" type=\"button\">등록</button>\n",
       "</div>\n",
       "</div>\n",
       "</div>\n",
       "</div>"
      ]
     },
     "execution_count": 14,
     "metadata": {},
     "output_type": "execute_result"
    }
   ],
   "source": [
    "#copy-> copy selector\n",
    "content = soup.select(\"#main > section > div > div > div.chitchats > div.chitchat-list > div\")\n",
    "content[-1]"
   ]
  },
  {
   "cell_type": "code",
   "execution_count": 20,
   "metadata": {},
   "outputs": [
    {
     "data": {
      "text/plain": [
       "'인프런 0호 팀원이에요!\\n그동안 서비스 개발 때문에 js 를 많이 했었는데 앞으론 통계나 분석을 많이 하고 싶어서 파이썬을 공부하고 싶어요! 올해 파이썬 마스터가 되는걸로..\\n#관심강의: 남박사의 파이썬 활용'"
      ]
     },
     "execution_count": 20,
     "metadata": {},
     "output_type": "execute_result"
    }
   ],
   "source": [
    "chitchat = content[-1].select(\"div.body.edit-chitchat\")[0].get_text(strip=True)\n",
    "chitchat"
   ]
  },
  {
   "cell_type": "code",
   "execution_count": 31,
   "metadata": {},
   "outputs": [
    {
     "name": "stderr",
     "output_type": "stream",
     "text": [
      "100%|██████████| 2447/2447 [00:00<00:00, 4184.67it/s]\n"
     ]
    }
   ],
   "source": [
    "event =[]\n",
    "for i in trange(len(content)):\n",
    "    chitchat = content[i].select(\"div.body.edit-chitchat\")[0].get_text(strip=True)\n",
    "    event.append(chitchat)"
   ]
  },
  {
   "cell_type": "code",
   "execution_count": 36,
   "metadata": {},
   "outputs": [
    {
     "data": {
      "text/plain": [
       "(2447, 1)"
      ]
     },
     "execution_count": 36,
     "metadata": {},
     "output_type": "execute_result"
    }
   ],
   "source": [
    "df = pd.DataFrame({\"text\": event})\n",
    "df.shape"
   ]
  },
  {
   "cell_type": "code",
   "execution_count": 37,
   "metadata": {},
   "outputs": [],
   "source": [
    "df.to_csv(\"inflearn-event.csv\", index=False)"
   ]
  },
  {
   "cell_type": "code",
   "execution_count": 38,
   "metadata": {},
   "outputs": [
    {
     "data": {
      "text/html": [
       "<div>\n",
       "<style scoped>\n",
       "    .dataframe tbody tr th:only-of-type {\n",
       "        vertical-align: middle;\n",
       "    }\n",
       "\n",
       "    .dataframe tbody tr th {\n",
       "        vertical-align: top;\n",
       "    }\n",
       "\n",
       "    .dataframe thead th {\n",
       "        text-align: right;\n",
       "    }\n",
       "</style>\n",
       "<table border=\"1\" class=\"dataframe\">\n",
       "  <thead>\n",
       "    <tr style=\"text-align: right;\">\n",
       "      <th></th>\n",
       "      <th>text</th>\n",
       "    </tr>\n",
       "  </thead>\n",
       "  <tbody>\n",
       "    <tr>\n",
       "      <th>0</th>\n",
       "      <td>40대 프로그래밍 시작! : 우리를 위한 프로그래밍 : 파이썬 중급</td>\n",
       "    </tr>\n",
       "    <tr>\n",
       "      <th>1</th>\n",
       "      <td>2020년 목표 : 돌머리 비전공자가 멋진 전공자 되기!</td>\n",
       "    </tr>\n",
       "    <tr>\n",
       "      <th>2</th>\n",
       "      <td>2020 년목표: 비전공자(경영)가 전공자(it) 되기!!!</td>\n",
       "    </tr>\n",
       "    <tr>\n",
       "      <th>3</th>\n",
       "      <td>2020년 목표 : 리액트 공부하기, 스프링 공부하기</td>\n",
       "    </tr>\n",
       "    <tr>\n",
       "      <th>4</th>\n",
       "      <td>2020년에는 아이티 마스터가 되기 관심강의 리액트\\n#관심강의 : React로 N...</td>\n",
       "    </tr>\n",
       "  </tbody>\n",
       "</table>\n",
       "</div>"
      ],
      "text/plain": [
       "                                                text\n",
       "0              40대 프로그래밍 시작! : 우리를 위한 프로그래밍 : 파이썬 중급\n",
       "1                    2020년 목표 : 돌머리 비전공자가 멋진 전공자 되기!\n",
       "2                  2020 년목표: 비전공자(경영)가 전공자(it) 되기!!!\n",
       "3                      2020년 목표 : 리액트 공부하기, 스프링 공부하기\n",
       "4  2020년에는 아이티 마스터가 되기 관심강의 리액트\\n#관심강의 : React로 N..."
      ]
     },
     "execution_count": 38,
     "metadata": {},
     "output_type": "execute_result"
    }
   ],
   "source": [
    "pd.read_csv(\"inflearn-event.csv\").head()"
   ]
  },
  {
   "cell_type": "code",
   "execution_count": null,
   "metadata": {},
   "outputs": [],
   "source": []
  }
 ],
 "metadata": {
  "kernelspec": {
   "display_name": "Python 3",
   "language": "python",
   "name": "python3"
  },
  "language_info": {
   "codemirror_mode": {
    "name": "ipython",
    "version": 3
   },
   "file_extension": ".py",
   "mimetype": "text/x-python",
   "name": "python",
   "nbconvert_exporter": "python",
   "pygments_lexer": "ipython3",
   "version": "3.8.1"
  }
 },
 "nbformat": 4,
 "nbformat_minor": 4
}
