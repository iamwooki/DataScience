{
 "cells": [
  {
   "cell_type": "code",
   "execution_count": 1,
   "metadata": {},
   "outputs": [],
   "source": [
    "#CSE, 2016118274 HyunWook, Hong\n",
    "import pandas as pd\n",
    "import os\n",
    "import numpy as np"
   ]
  },
  {
   "cell_type": "code",
   "execution_count": 2,
   "metadata": {},
   "outputs": [],
   "source": [
    "#1. Data Collection\n",
    "path = './aclImdb/'\n",
    "labels = {'pos':1, 'neg':0}\n",
    "df = pd.DataFrame()\n",
    "for s in ('test','train'):\n",
    "    for name in ('pos','neg'):\n",
    "        subpath = '%s/%s' %(s,name)\n",
    "        dirpath = path+subpath\n",
    "        for file in os.listdir(dirpath):\n",
    "            with open(os.path.join(dirpath, file), 'r') as f:\n",
    "                txt = f.read()\n",
    "            df = df.append([[txt, labels[name]]], ignore_index = True)\n",
    "\n",
    "df.columns = ['review', 'sentiment']\n",
    "\n",
    "np.random.seed(0)\n",
    "df = df.reindex(np.random.permutation(df.index))\n",
    "#output\n",
    "df.to_csv('movie_review.csv',index=False)\n",
    "\n"
   ]
  },
  {
   "cell_type": "code",
   "execution_count": 4,
   "metadata": {},
   "outputs": [
    {
     "output_type": "execute_result",
     "data": {
      "text/plain": "                                              review  sentiment\n0  My family and I normally do not watch local mo...          1\n1  Believe it or not, this was at one time the wo...          0\n2  After some internet surfing, I found the \"Home...          0\n3  One of the most unheralded great works of anim...          1\n4  It was the Sixties, and anyone with long hair ...          0",
      "text/html": "<div>\n<style scoped>\n    .dataframe tbody tr th:only-of-type {\n        vertical-align: middle;\n    }\n\n    .dataframe tbody tr th {\n        vertical-align: top;\n    }\n\n    .dataframe thead th {\n        text-align: right;\n    }\n</style>\n<table border=\"1\" class=\"dataframe\">\n  <thead>\n    <tr style=\"text-align: right;\">\n      <th></th>\n      <th>review</th>\n      <th>sentiment</th>\n    </tr>\n  </thead>\n  <tbody>\n    <tr>\n      <th>0</th>\n      <td>My family and I normally do not watch local mo...</td>\n      <td>1</td>\n    </tr>\n    <tr>\n      <th>1</th>\n      <td>Believe it or not, this was at one time the wo...</td>\n      <td>0</td>\n    </tr>\n    <tr>\n      <th>2</th>\n      <td>After some internet surfing, I found the \"Home...</td>\n      <td>0</td>\n    </tr>\n    <tr>\n      <th>3</th>\n      <td>One of the most unheralded great works of anim...</td>\n      <td>1</td>\n    </tr>\n    <tr>\n      <th>4</th>\n      <td>It was the Sixties, and anyone with long hair ...</td>\n      <td>0</td>\n    </tr>\n  </tbody>\n</table>\n</div>"
     },
     "metadata": {},
     "execution_count": 4
    }
   ],
   "source": [
    "df = pd.read_csv('movie_review.csv')\n",
    "df.head()\n"
   ]
  },
  {
   "cell_type": "code",
   "execution_count": 5,
   "metadata": {},
   "outputs": [
    {
     "output_type": "execute_result",
     "data": {
      "text/plain": "                                                  review  sentiment\n49995  the people who came up with this are SICK AND ...          0\n49996  The script is so so laughable... this in turn,...          0\n49997  \"So there's this bride, you see, and she gets ...          0\n49998  Your mind will not be satisfied by this nobud...          0\n49999  The chaser's war on everything is a weekly sho...          1",
      "text/html": "<div>\n<style scoped>\n    .dataframe tbody tr th:only-of-type {\n        vertical-align: middle;\n    }\n\n    .dataframe tbody tr th {\n        vertical-align: top;\n    }\n\n    .dataframe thead th {\n        text-align: right;\n    }\n</style>\n<table border=\"1\" class=\"dataframe\">\n  <thead>\n    <tr style=\"text-align: right;\">\n      <th></th>\n      <th>review</th>\n      <th>sentiment</th>\n    </tr>\n  </thead>\n  <tbody>\n    <tr>\n      <th>49995</th>\n      <td>the people who came up with this are SICK AND ...</td>\n      <td>0</td>\n    </tr>\n    <tr>\n      <th>49996</th>\n      <td>The script is so so laughable... this in turn,...</td>\n      <td>0</td>\n    </tr>\n    <tr>\n      <th>49997</th>\n      <td>\"So there's this bride, you see, and she gets ...</td>\n      <td>0</td>\n    </tr>\n    <tr>\n      <th>49998</th>\n      <td>Your mind will not be satisfied by this nobud...</td>\n      <td>0</td>\n    </tr>\n    <tr>\n      <th>49999</th>\n      <td>The chaser's war on everything is a weekly sho...</td>\n      <td>1</td>\n    </tr>\n  </tbody>\n</table>\n</div>"
     },
     "metadata": {},
     "execution_count": 5
    }
   ],
   "source": [
    "df.tail()"
   ]
  },
  {
   "cell_type": "code",
   "execution_count": 18,
   "metadata": {},
   "outputs": [
    {
     "output_type": "stream",
     "name": "stdout",
     "text": "start preprocessing\ncomplete\n"
    }
   ],
   "source": [
    "#2. Subjectivity Detection\n",
    "import re\n",
    "\n",
    "def preprocessor(text):\n",
    "    text = re.sub('<[^>]*>','', text)\n",
    "    emoticons = re.findall('(?::|;|=)(?:-)?(?:\\)|\\(|D|P)|\\^.?\\^', text)\n",
    "    text = re.sub('[\\₩]+', ' ', text.lower()) + ' '.join(emoticons).replace('-','')\n",
    "\n",
    "    return text\n",
    "\n",
    "df = pd.read_csv('movie_review.csv')\n",
    "print('start preprocessing')\n",
    "df['review']= df['review'].apply(preprocessor)\n",
    "print('complete')\n",
    "\n",
    "df.to_csv('./refined_movie_review.csv',index=False)"
   ]
  },
  {
   "cell_type": "code",
   "execution_count": 6,
   "metadata": {},
   "outputs": [
    {
     "output_type": "execute_result",
     "data": {
      "text/plain": "                                              review  sentiment\n0  my family and i normally do not watch local mo...          1\n1  believe it or not, this was at one time the wo...          0\n2  after some internet surfing, i found the \"home...          0\n3  one of the most unheralded great works of anim...          1\n4  it was the sixties, and anyone with long hair ...          0",
      "text/html": "<div>\n<style scoped>\n    .dataframe tbody tr th:only-of-type {\n        vertical-align: middle;\n    }\n\n    .dataframe tbody tr th {\n        vertical-align: top;\n    }\n\n    .dataframe thead th {\n        text-align: right;\n    }\n</style>\n<table border=\"1\" class=\"dataframe\">\n  <thead>\n    <tr style=\"text-align: right;\">\n      <th></th>\n      <th>review</th>\n      <th>sentiment</th>\n    </tr>\n  </thead>\n  <tbody>\n    <tr>\n      <th>0</th>\n      <td>my family and i normally do not watch local mo...</td>\n      <td>1</td>\n    </tr>\n    <tr>\n      <th>1</th>\n      <td>believe it or not, this was at one time the wo...</td>\n      <td>0</td>\n    </tr>\n    <tr>\n      <th>2</th>\n      <td>after some internet surfing, i found the \"home...</td>\n      <td>0</td>\n    </tr>\n    <tr>\n      <th>3</th>\n      <td>one of the most unheralded great works of anim...</td>\n      <td>1</td>\n    </tr>\n    <tr>\n      <th>4</th>\n      <td>it was the sixties, and anyone with long hair ...</td>\n      <td>0</td>\n    </tr>\n  </tbody>\n</table>\n</div>"
     },
     "metadata": {},
     "execution_count": 6
    }
   ],
   "source": [
    "df = pd.read_csv('refined_movie_review.csv')\n",
    "df.head()"
   ]
  },
  {
   "cell_type": "code",
   "execution_count": 7,
   "metadata": {},
   "outputs": [],
   "source": [
    "from nltk.stem.porter import PorterStemmer\n",
    "from nltk.corpus import stopwords\n",
    "\n",
    "porter = PorterStemmer()\n",
    "stop = stopwords.words('english')\n",
    "\n",
    "def tokenizer(text):\n",
    "    return text.split()\n",
    "\n",
    "def tokeinzer_porter(text):\n",
    "    return [porter.stem(word) for word in text.split()]"
   ]
  },
  {
   "cell_type": "code",
   "execution_count": 31,
   "metadata": {},
   "outputs": [
    {
     "output_type": "stream",
     "name": "stdout",
     "text": "Original text\nrunners like running and thus they run\nblank split\n['runners', 'like', 'running', 'and', 'thus', 'they', 'run']\nstemming split\n['runner', 'like', 'run', 'and', 'thu', 'they', 'run']\n"
    }
   ],
   "source": [
    "text = 'runners like running and thus they run'\n",
    "print(\"Original text\")\n",
    "print(text)\n",
    "print(\"blank split\")\n",
    "print(tokenizer(text))\n",
    "print(\"stemming split\" )\n",
    "print(tokeinzer_porter(text))"
   ]
  },
  {
   "cell_type": "code",
   "execution_count": 9,
   "metadata": {},
   "outputs": [
    {
     "output_type": "stream",
     "name": "stdout",
     "text": "ML start\nML complete\nAccuracy : 0.954\npickle save\n"
    }
   ],
   "source": [
    "#Polarity Detection\n",
    "from sklearn.pipeline import Pipeline\n",
    "from sklearn.linear_model import LogisticRegression\n",
    "from sklearn.feature_extraction.text import TfidfVectorizer\n",
    "from sklearn.metrics import accuracy_score\n",
    "import os\n",
    "import pickle\n",
    "from time import time\n",
    "\n",
    "df = pd.read_csv('refined_movie_review.csv')\n",
    "\n",
    "x_train = df.loc[:35000,'review'].values\n",
    "y_train = df.loc[:35000,'sentiment'].values\n",
    "x_test = df.loc[15000:,'review'].values\n",
    "y_test = df.loc[15000:,'sentiment'].values\n",
    "\n",
    "tfidf = TfidfVectorizer(lowercase=False,tokenizer=tokenizer)\n",
    "#Pipeline : Run vect(tfidf), clf(logisticRegression) sequentially\n",
    "lr_tfidf = Pipeline([('vect',tfidf), ('clf', LogisticRegression(C=10.0, penalty='l2',random_state=0))])\n",
    "\n",
    "print(\"ML start\")\n",
    "#train\n",
    "lr_tfidf.fit(x_train,y_train)\n",
    "print(\"ML complete\")\n",
    "\n",
    "y_pred = lr_tfidf.predict(x_test)\n",
    "print('Accuracy : %.3f' %accuracy_score(y_test, y_pred))\n",
    "\n",
    "curDir = os.getcwd()\n",
    "dest = os.path.join(curDir, 'data', 'pklObject')\n",
    "if not os.path.exists(dest):\n",
    "    os.makedirs(dest)\n",
    "\n",
    "pickle.dump(lr_tfidf, open(os.path.join(dest,'classifier.pkl'), 'wb'), protocol=4)\n",
    "print('pickle save')\n"
   ]
  },
  {
   "cell_type": "code",
   "execution_count": 11,
   "metadata": {},
   "outputs": [
    {
     "output_type": "stream",
     "name": "stdout",
     "text": "Test accuracy: 0.954\nwrited txt : i love this movie\npredict : postivie opinion \nStatics: 97.536%\n\n\nwrited txt : i like it\npredict : postivie opinion \nStatics: 86.165%\n\n\nwrited txt : i hate this contents\npredict : negative opinion \nStatics: 54.279%\n\n\nwrited txt : i love it but scenario is too bad\npredict : negative opinion \nStatics: 85.417%\n\n\nwrited txt : hmm.. not good!\npredict : postivie opinion \nStatics: 68.064%\n\n\nwrited txt : hmm.. not good\npredict : postivie opinion \nStatics: 55.343%\n\n\nwrited txt : i will recommand this movie to my friends\npredict : postivie opinion \nStatics: 79.363%\n\n\nwrited txt : thakn you sir\npredict : postivie opinion \nStatics: 92.385%\n\n\n"
    }
   ],
   "source": [
    "df = pd.read_csv('refined_movie_review.csv')\n",
    "\n",
    "x_train = df.loc[:35000,'review'].values\n",
    "y_train = df.loc[:35000,'sentiment'].values\n",
    "x_test = df.loc[15000:,'review'].values\n",
    "y_test = df.loc[15000:,'sentiment'].values\n",
    "\n",
    "curDir = os.getcwd()\n",
    "clf = pickle.load(open(os.path.join(curDir,'data','pklObject','classifier.pkl'),'rb'))\n",
    "\n",
    "y_pred = clf.predict(x_test)\n",
    "print('Test accuracy: %.3f' %accuracy_score(y_test, y_pred))\n",
    "\n",
    "label = {0:'negative opinion', 1:'postivie opinion'}\n",
    "\n",
    "while True:\n",
    "    txt = input('write review in english')\n",
    "    if txt =='':\n",
    "        break\n",
    "    example = [txt]\n",
    "    print('writed txt : '+txt)\n",
    "    print('predict : %s \\nStatics: %.3f%%' %(label[clf.predict(example)[0]], np.max(clf.predict_proba(example))*100))\n",
    "    print('\\n')"
   ]
  },
  {
   "cell_type": "code",
   "execution_count": null,
   "metadata": {},
   "outputs": [],
   "source": []
  }
 ],
 "metadata": {
  "language_info": {
   "name": "python",
   "codemirror_mode": {
    "name": "ipython",
    "version": 3
   },
   "version": "3.7.3-final"
  },
  "orig_nbformat": 2,
  "file_extension": ".py",
  "mimetype": "text/x-python",
  "name": "python",
  "npconvert_exporter": "python",
  "pygments_lexer": "ipython3",
  "version": 3,
  "kernelspec": {
   "name": "python37364bitb4ebbe706267480492b07e21d5b9f384",
   "display_name": "Python 3.7.3 64-bit"
  }
 },
 "nbformat": 4,
 "nbformat_minor": 2
}