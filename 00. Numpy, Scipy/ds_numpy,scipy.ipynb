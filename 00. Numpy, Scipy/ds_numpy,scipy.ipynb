{
  "nbformat": 4,
  "nbformat_minor": 0,
  "metadata": {
    "colab": {
      "name": "ds_numpy,scipy.ipynb",
      "provenance": [],
      "collapsed_sections": []
    },
    "kernelspec": {
      "name": "python3",
      "display_name": "Python 3"
    }
  },
  "cells": [
    {
      "cell_type": "code",
      "metadata": {
        "id": "x0kqelTMBgh3",
        "colab_type": "code",
        "colab": {}
      },
      "source": [
        "import numpy as np"
      ],
      "execution_count": 0,
      "outputs": []
    },
    {
      "cell_type": "code",
      "metadata": {
        "id": "SA1KnORcpkhV",
        "colab_type": "code",
        "outputId": "02018c98-ff24-466d-cf65-3820f33dc3f4",
        "colab": {
          "base_uri": "https://localhost:8080/",
          "height": 68
        }
      },
      "source": [
        "speed = [89,76,77,78,101,76,93,77,84,68,67,75,76]\n",
        "x = np.mean(speed)\n",
        "y = np.median(speed)\n",
        "print(x, y)\n",
        "print(np.std(speed)) #standard deviation\n",
        "print(np.var(speed)) #variance\n"
      ],
      "execution_count": 9,
      "outputs": [
        {
          "output_type": "stream",
          "text": [
            "79.76923076923077 77.0\n",
            "9.258292301032677\n",
            "85.71597633136093\n"
          ],
          "name": "stdout"
        }
      ]
    },
    {
      "cell_type": "code",
      "metadata": {
        "id": "4jPjQKFGhgH6",
        "colab_type": "code",
        "colab": {
          "base_uri": "https://localhost:8080/",
          "height": 34
        },
        "outputId": "85086ffb-9a8e-48b8-bf9e-769f6353590e"
      },
      "source": [
        "from scipy import stats\n",
        "speed = [99,86,87,88,111,86,103,87,94,78,77,85,86]\n",
        "x = stats.mode(speed)\n",
        "print(x)"
      ],
      "execution_count": 7,
      "outputs": [
        {
          "output_type": "stream",
          "text": [
            "ModeResult(mode=array([86]), count=array([3]))\n"
          ],
          "name": "stdout"
        }
      ]
    },
    {
      "cell_type": "code",
      "metadata": {
        "id": "6pTtCyfvjXn-",
        "colab_type": "code",
        "colab": {
          "base_uri": "https://localhost:8080/",
          "height": 265
        },
        "outputId": "5fe9c447-ff33-4ae8-f8e4-2be3d98d26d0"
      },
      "source": [
        "import matplotlib.pyplot as plt\n",
        "#ref : https://rfriend.tistory.com/284\n",
        "x = numpy.random.uniform(0.0, 5.0, 250)\n",
        "\n",
        "plt.hist(x,5)\n",
        "plt.show()"
      ],
      "execution_count": 14,
      "outputs": [
        {
          "output_type": "display_data",
          "data": {
            "image/png": "[encoded data removed]",
            "text/plain": [
              "<Figure size 432x288 with 1 Axes>"
            ]
          },
          "metadata": {
            "tags": [],
            "needs_background": "light"
          }
        }
      ]
    },
    {
      "cell_type": "code",
      "metadata": {
        "id": "zClYLRFHmAcI",
        "colab_type": "code",
        "colab": {
          "base_uri": "https://localhost:8080/",
          "height": 265
        },
        "outputId": "625bafc4-5a18-46ce-a400-e851f05306d8"
      },
      "source": [
        "x = numpy.random.uniform(0.0, 5.0, 100000) #균등분포\n",
        "plt.hist(x,100)\n",
        "plt.show()"
      ],
      "execution_count": 15,
      "outputs": [
        {
          "output_type": "display_data",
          "data": {
            "image/png": "[encoded data removed]",
            "text/plain": [
              "<Figure size 432x288 with 1 Axes>"
            ]
          },
          "metadata": {
            "tags": [],
            "needs_background": "light"
          }
        }
      ]
    },
    {
      "cell_type": "code",
      "metadata": {
        "id": "mhGPMZ-_mIVZ",
        "colab_type": "code",
        "colab": {
          "base_uri": "https://localhost:8080/",
          "height": 265
        },
        "outputId": "2c9396a3-1e03-4399-a429-0e304aa145bd"
      },
      "source": [
        "x = numpy.random.normal(5.0, 1.0, 100000) #정규분포\n",
        "plt.hist(x,100)\n",
        "plt.show()"
      ],
      "execution_count": 18,
      "outputs": [
        {
          "output_type": "display_data",
          "data": {
            "image/png": "[encoded data removed]",
            "text/plain": [
              "<Figure size 432x288 with 1 Axes>"
            ]
          },
          "metadata": {
            "tags": [],
            "needs_background": "light"
          }
        }
      ]
    },
    {
      "cell_type": "code",
      "metadata": {
        "id": "p-tqkZ3FpNWS",
        "colab_type": "code",
        "colab": {}
      },
      "source": [
        ""
      ],
      "execution_count": 0,
      "outputs": []
    },
    {
      "cell_type": "code",
      "metadata": {
        "id": "BsKjHOTWm0ve",
        "colab_type": "code",
        "colab": {
          "base_uri": "https://localhost:8080/",
          "height": 265
        },
        "outputId": "d2e40386-3833-4890-d611-aecddf9e0c40"
      },
      "source": [
        "#x = np.random.normal(5.0,1.0,1000)\n",
        "#y = np.random.normal(10.0,2.0,1000)\n",
        "y = [99,77,66,66,11,22,33,55,66,66]\n",
        "x=  [1,2,3,4,5,6,7,8,9,10]\n",
        "\n",
        "slope, intercept, r , p, std_err = stats.linregress(x,y)\n",
        "\n",
        "def myfunc(x):\n",
        "  return slope * x + intercept\n",
        "\n",
        "mymodel = list(map(myfunc,x))\n",
        "\n",
        "plt.scatter(x,y)\n",
        "plt.plot(x,mymodel)\n",
        "plt.show()"
      ],
      "execution_count": 22,
      "outputs": [
        {
          "output_type": "display_data",
          "data": {
            "image/png": "[encoded data removed]",
            "text/plain": [
              "<Figure size 432x288 with 1 Axes>"
            ]
          },
          "metadata": {
            "tags": [],
            "needs_background": "light"
          }
        }
      ]
    },
    {
      "cell_type": "code",
      "metadata": {
        "id": "NavroqatramS",
        "colab_type": "code",
        "colab": {
          "base_uri": "https://localhost:8080/",
          "height": 265
        },
        "outputId": "8d9572ba-6725-4bdb-b906-65258d9d63cc"
      },
      "source": [
        "y = [99,77,66,66,11,22,33,55,66,66]\n",
        "x=  [1,2,3,4,5,6,10,15,18,20]\n",
        "\n",
        "mymodel = np.poly1d(np.polyfit(x,y,3))\n",
        "\n",
        "myline = np.linspace(1,22,100)\n",
        "\n",
        "plt.scatter(x,y)\n",
        "plt.plot(myline,mymodel(myline))\n",
        "plt.show()"
      ],
      "execution_count": 29,
      "outputs": [
        {
          "output_type": "display_data",
          "data": {
            "image/png": "[encoded data removed]",
            "text/plain": [
              "<Figure size 432x288 with 1 Axes>"
            ]
          },
          "metadata": {
            "tags": [],
            "needs_background": "light"
          }
        }
      ]
    }
  ]
}