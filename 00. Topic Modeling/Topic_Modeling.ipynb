{
  "nbformat": 4,
  "nbformat_minor": 0,
  "metadata": {
    "colab": {
      "name": "Topic Modeling.ipynb",
      "provenance": [],
      "collapsed_sections": []
    },
    "kernelspec": {
      "name": "python3",
      "display_name": "Python 3"
    },
    "accelerator": "GPU"
  },
  "cells": [
    {
      "cell_type": "code",
      "metadata": {
        "id": "6vrauNS5Mi47",
        "colab_type": "code",
        "colab": {
          "resources": {
            "http://localhost:8080/nbextensions/google.colab/files.js": {
              "data": "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",
              "ok": true,
              "headers": [
                [
                  "content-type",
                  "application/javascript"
                ]
              ],
              "status": 200,
              "status_text": ""
            }
          },
          "base_uri": "https://localhost:8080/",
          "height": 71
        },
        "outputId": "ddb7f518-b4e4-4baa-98ee-78de9c96f4d6"
      },
      "source": [
        "from google.colab import files\n",
        "upload = files.upload()"
      ],
      "execution_count": 17,
      "outputs": [
        {
          "output_type": "display_data",
          "data": {
            "text/html": [
              "\n",
              "     <input type=\"file\" id=\"files-a5514e7d-1c7c-4d85-9d63-554d9b31c962\" name=\"files[]\" multiple disabled />\n",
              "     <output id=\"result-a5514e7d-1c7c-4d85-9d63-554d9b31c962\">\n",
              "      Upload widget is only available when the cell has been executed in the\n",
              "      current browser session. Please rerun this cell to enable.\n",
              "      </output>\n",
              "      <script src=\"/nbextensions/google.colab/files.js\"></script> "
            ],
            "text/plain": [
              "<IPython.core.display.HTML object>"
            ]
          },
          "metadata": {
            "tags": []
          }
        },
        {
          "output_type": "stream",
          "text": [
            "Saving amazon_cells_labelled.txt to amazon_cells_labelled.txt\n"
          ],
          "name": "stdout"
        }
      ]
    },
    {
      "cell_type": "code",
      "metadata": {
        "id": "lNhvpKEoOTaT",
        "colab_type": "code",
        "colab": {}
      },
      "source": [
        "#유클리드 거리\n",
        "from sklearn.metrics.pairwise import euclidean_distances\n",
        "euclidean_distances(tdm[0], tdm[1])"
      ],
      "execution_count": 0,
      "outputs": []
    },
    {
      "cell_type": "code",
      "metadata": {
        "id": "QUTjmcxmPT5O",
        "colab_type": "code",
        "colab": {
          "base_uri": "https://localhost:8080/",
          "height": 71
        },
        "outputId": "510c0fc5-e44a-492f-b47e-f97649298050"
      },
      "source": [
        "from sklearn.externals import joblib\n",
        "import pandas as pd\n",
        "\n",
        "def get_nouns():\n",
        "  pass\n",
        "\n",
        "with open('ai_news.pkl','rb') as f:\n",
        "  data = joblib.load(f)\n",
        "\n",
        "locals().update(data)\n",
        "\n"
      ],
      "execution_count": 10,
      "outputs": [
        {
          "output_type": "stream",
          "text": [
            "/usr/local/lib/python3.6/dist-packages/sklearn/base.py:318: UserWarning: Trying to unpickle estimator CountVectorizer from version 0.19.1 when using version 0.22.2.post1. This might lead to breaking code or invalid results. Use at your own risk.\n",
            "  UserWarning)\n"
          ],
          "name": "stderr"
        }
      ]
    },
    {
      "cell_type": "code",
      "metadata": {
        "id": "tDbmMmYOP3MO",
        "colab_type": "code",
        "colab": {
          "base_uri": "https://localhost:8080/",
          "height": 34
        },
        "outputId": "b56f8062-66ba-4448-bb2d-c023841e98d9"
      },
      "source": [
        "#유클리드 거리\n",
        "from sklearn.metrics.pairwise import euclidean_distances\n"
      ],
      "execution_count": 11,
      "outputs": [
        {
          "output_type": "execute_result",
          "data": {
            "text/plain": [
              "array([[6.55743852]])"
            ]
          },
          "metadata": {
            "tags": []
          },
          "execution_count": 11
        }
      ]
    },
    {
      "cell_type": "code",
      "metadata": {
        "id": "NWrqHx9bQNyq",
        "colab_type": "code",
        "colab": {
          "base_uri": "https://localhost:8080/",
          "height": 34
        },
        "outputId": "cdbfb152-46e1-4a0b-9ded-224a52de9003"
      },
      "source": [
        "import numpy as np\n",
        "dist = euclidean_distances(tdm[0], tdm[1:])\n",
        "np.argmin(dist) +1"
      ],
      "execution_count": 12,
      "outputs": [
        {
          "output_type": "execute_result",
          "data": {
            "text/plain": [
              "357"
            ]
          },
          "metadata": {
            "tags": []
          },
          "execution_count": 12
        }
      ]
    },
    {
      "cell_type": "code",
      "metadata": {
        "id": "XWFoCHRdQVOS",
        "colab_type": "code",
        "colab": {}
      },
      "source": [
        "article = pandas.read_csv('인공지능 관련 뉴스메타데이터(2013.01.01-2017.08.31).CSV',\n",
        "                          encoding='cp949', engine='python')\n",
        "print(article.loc[0,'본문'])\n",
        "print(article.loc[357,'본문'])"
      ],
      "execution_count": 0,
      "outputs": []
    },
    {
      "cell_type": "code",
      "metadata": {
        "id": "oIPMDVwsQp0x",
        "colab_type": "code",
        "colab": {
          "base_uri": "https://localhost:8080/",
          "height": 34
        },
        "outputId": "8aebb264-9c68-4627-9aa4-30da0a713cd8"
      },
      "source": [
        "#코사인 유사도\n",
        "from sklearn.metrics.pairwise import cosine_similarity\n",
        "cosine_similarity(tdm[0], tdm[1])"
      ],
      "execution_count": 14,
      "outputs": [
        {
          "output_type": "execute_result",
          "data": {
            "text/plain": [
              "array([[0.04472136]])"
            ]
          },
          "metadata": {
            "tags": []
          },
          "execution_count": 14
        }
      ]
    },
    {
      "cell_type": "code",
      "metadata": {
        "id": "4tUkaJ_8Q2Lx",
        "colab_type": "code",
        "colab": {
          "base_uri": "https://localhost:8080/",
          "height": 34
        },
        "outputId": "320ee044-10f8-4e68-97af-f991bdf8cd0d"
      },
      "source": [
        "sim = cosine_similarity(tdm[0], tdm[1:])\n",
        "np.argmax(sim) + 1"
      ],
      "execution_count": 15,
      "outputs": [
        {
          "output_type": "execute_result",
          "data": {
            "text/plain": [
              "357"
            ]
          },
          "metadata": {
            "tags": []
          },
          "execution_count": 15
        }
      ]
    },
    {
      "cell_type": "code",
      "metadata": {
        "id": "RFw9N4fYQ4WS",
        "colab_type": "code",
        "colab": {}
      },
      "source": [
        "#0번 기사와 가장 유사도가 높은 문서는 위의 숫자 357\n",
        "article.loc[357, '본문']"
      ],
      "execution_count": 0,
      "outputs": []
    },
    {
      "cell_type": "code",
      "metadata": {
        "id": "coLr7ANHRU67",
        "colab_type": "code",
        "colab": {
          "base_uri": "https://localhost:8080/",
          "height": 105
        },
        "outputId": "a75553ab-7bce-478b-e4dc-493461f5cc92"
      },
      "source": [
        "#문서 클러스터링\n",
        "with open('amazon.pkl','rb') as f:\n",
        "  data = joblib.load(f)\n",
        "\n",
        "locals().update(data)"
      ],
      "execution_count": 18,
      "outputs": [
        {
          "output_type": "stream",
          "text": [
            "/usr/local/lib/python3.6/dist-packages/sklearn/base.py:318: UserWarning: Trying to unpickle estimator TfidfTransformer from version 0.19.1 when using version 0.22.2.post1. This might lead to breaking code or invalid results. Use at your own risk.\n",
            "  UserWarning)\n",
            "/usr/local/lib/python3.6/dist-packages/sklearn/base.py:318: UserWarning: Trying to unpickle estimator TfidfVectorizer from version 0.19.1 when using version 0.22.2.post1. This might lead to breaking code or invalid results. Use at your own risk.\n",
            "  UserWarning)\n"
          ],
          "name": "stderr"
        }
      ]
    },
    {
      "cell_type": "code",
      "metadata": {
        "id": "Iy0amGPQRrQD",
        "colab_type": "code",
        "colab": {}
      },
      "source": [
        "df = pd.read_csv('amazon_cells_labelled.txt', sep=\"\\t\", header=None)"
      ],
      "execution_count": 0,
      "outputs": []
    },
    {
      "cell_type": "code",
      "metadata": {
        "id": "X14p0BdDSu-Q",
        "colab_type": "code",
        "colab": {
          "base_uri": "https://localhost:8080/",
          "height": 68
        },
        "outputId": "3227a827-55af-4196-d58d-814900033c0d"
      },
      "source": [
        "#스펙트럴 클러스터링\n",
        "from sklearn.cluster import SpectralClustering\n",
        "cl = SpectralClustering(n_clusters=4, random_state=1234)\n",
        "labels = cl.fit_predict(tdm[:100])\n",
        "print(labels)"
      ],
      "execution_count": 20,
      "outputs": [
        {
          "output_type": "stream",
          "text": [
            "[1 1 3 1 3 1 1 1 1 1 3 1 1 1 1 1 1 1 3 1 1 1 1 1 1 3 1 1 1 1 1 2 1 1 1 1 1\n",
            " 1 3 2 3 2 1 1 1 1 1 1 1 0 1 1 1 1 2 1 0 3 1 1 1 1 1 1 1 1 1 1 3 3 1 1 3 1\n",
            " 1 2 1 3 2 1 1 1 1 1 3 1 3 1 2 1 1 1 3 1 1 1 1 2 1 0]\n"
          ],
          "name": "stdout"
        }
      ]
    },
    {
      "cell_type": "code",
      "metadata": {
        "id": "H7ejJ6g_TX05",
        "colab_type": "code",
        "colab": {
          "base_uri": "https://localhost:8080/",
          "height": 173
        },
        "outputId": "efbd13ec-ea3b-45c3-fb50-7be299253cbc"
      },
      "source": [
        "from operator import itemgetter\n",
        "words = vectorizer.get_feature_names()\n",
        "\n",
        "def top10(labels):\n",
        "    freq_words = []\n",
        "    for i in range(4):\n",
        "        count = tdm[labels == i, :].sum(axis=0)\n",
        "        ws = [w for w, n in sorted(zip(words, count.flat), key=itemgetter(1), reverse=True)[:10]]\n",
        "        freq_words.append(ws)\n",
        "\n",
        "    return pd.DataFrame(freq_words)\n",
        "\n",
        "top10(labels)"
      ],
      "execution_count": 21,
      "outputs": [
        {
          "output_type": "execute_result",
          "data": {
            "text/html": [
              "<div>\n",
              "<style scoped>\n",
              "    .dataframe tbody tr th:only-of-type {\n",
              "        vertical-align: middle;\n",
              "    }\n",
              "\n",
              "    .dataframe tbody tr th {\n",
              "        vertical-align: top;\n",
              "    }\n",
              "\n",
              "    .dataframe thead th {\n",
              "        text-align: right;\n",
              "    }\n",
              "</style>\n",
              "<table border=\"1\" class=\"dataframe\">\n",
              "  <thead>\n",
              "    <tr style=\"text-align: right;\">\n",
              "      <th></th>\n",
              "      <th>0</th>\n",
              "      <th>1</th>\n",
              "      <th>2</th>\n",
              "      <th>3</th>\n",
              "      <th>4</th>\n",
              "      <th>5</th>\n",
              "      <th>6</th>\n",
              "      <th>7</th>\n",
              "      <th>8</th>\n",
              "      <th>9</th>\n",
              "    </tr>\n",
              "  </thead>\n",
              "  <tbody>\n",
              "    <tr>\n",
              "      <th>0</th>\n",
              "      <td>disappointed</td>\n",
              "      <td>decision</td>\n",
              "      <td>battery</td>\n",
              "      <td>10</td>\n",
              "      <td>100</td>\n",
              "      <td>11</td>\n",
              "      <td>12</td>\n",
              "      <td>13</td>\n",
              "      <td>15</td>\n",
              "      <td>15g</td>\n",
              "    </tr>\n",
              "    <tr>\n",
              "      <th>1</th>\n",
              "      <td>phone</td>\n",
              "      <td>battery</td>\n",
              "      <td>good</td>\n",
              "      <td>ve</td>\n",
              "      <td>time</td>\n",
              "      <td>right</td>\n",
              "      <td>money</td>\n",
              "      <td>doesn</td>\n",
              "      <td>use</td>\n",
              "      <td>headsets</td>\n",
              "    </tr>\n",
              "    <tr>\n",
              "      <th>2</th>\n",
              "      <td>product</td>\n",
              "      <td>love</td>\n",
              "      <td>worthless</td>\n",
              "      <td>impressed</td>\n",
              "      <td>thing</td>\n",
              "      <td>waaay</td>\n",
              "      <td>sensitive</td>\n",
              "      <td>big</td>\n",
              "      <td>handy</td>\n",
              "      <td>cheaper</td>\n",
              "    </tr>\n",
              "    <tr>\n",
              "      <th>3</th>\n",
              "      <td>great</td>\n",
              "      <td>works</td>\n",
              "      <td>worked</td>\n",
              "      <td>item</td>\n",
              "      <td>phone</td>\n",
              "      <td>choice</td>\n",
              "      <td>jawbone</td>\n",
              "      <td>mic</td>\n",
              "      <td>quality</td>\n",
              "      <td>situations</td>\n",
              "    </tr>\n",
              "  </tbody>\n",
              "</table>\n",
              "</div>"
            ],
            "text/plain": [
              "              0         1          2  ...      7        8           9\n",
              "0  disappointed  decision    battery  ...     13       15         15g\n",
              "1         phone   battery       good  ...  doesn      use    headsets\n",
              "2       product      love  worthless  ...    big    handy     cheaper\n",
              "3         great     works     worked  ...    mic  quality  situations\n",
              "\n",
              "[4 rows x 10 columns]"
            ]
          },
          "metadata": {
            "tags": []
          },
          "execution_count": 21
        }
      ]
    },
    {
      "cell_type": "code",
      "metadata": {
        "id": "0_Bd_qqoUHnu",
        "colab_type": "code",
        "colab": {
          "base_uri": "https://localhost:8080/",
          "height": 227
        },
        "outputId": "8d707696-f4f4-4c9f-c581-cb6c126977e8"
      },
      "source": [
        "#코사인 유사도를 바탕으로 클러스터링\n",
        "from sklearn.metrics.pairwise import cosine_similarity\n",
        "cl_cos = SpectralClustering(n_clusters=4, affinity=cosine_similarity, random_state=1234)\n",
        "labels_cos = cl_cos.fit_predict(tdm[:100])\n",
        "top10(labels_cos)\n"
      ],
      "execution_count": 22,
      "outputs": [
        {
          "output_type": "stream",
          "text": [
            "/usr/local/lib/python3.6/dist-packages/sklearn/manifold/_spectral_embedding.py:236: UserWarning: Graph is not fully connected, spectral embedding may not work as expected.\n",
            "  warnings.warn(\"Graph is not fully connected, spectral embedding\"\n"
          ],
          "name": "stderr"
        },
        {
          "output_type": "execute_result",
          "data": {
            "text/html": [
              "<div>\n",
              "<style scoped>\n",
              "    .dataframe tbody tr th:only-of-type {\n",
              "        vertical-align: middle;\n",
              "    }\n",
              "\n",
              "    .dataframe tbody tr th {\n",
              "        vertical-align: top;\n",
              "    }\n",
              "\n",
              "    .dataframe thead th {\n",
              "        text-align: right;\n",
              "    }\n",
              "</style>\n",
              "<table border=\"1\" class=\"dataframe\">\n",
              "  <thead>\n",
              "    <tr style=\"text-align: right;\">\n",
              "      <th></th>\n",
              "      <th>0</th>\n",
              "      <th>1</th>\n",
              "      <th>2</th>\n",
              "      <th>3</th>\n",
              "      <th>4</th>\n",
              "      <th>5</th>\n",
              "      <th>6</th>\n",
              "      <th>7</th>\n",
              "      <th>8</th>\n",
              "      <th>9</th>\n",
              "    </tr>\n",
              "  </thead>\n",
              "  <tbody>\n",
              "    <tr>\n",
              "      <th>0</th>\n",
              "      <td>battery</td>\n",
              "      <td>disappointed</td>\n",
              "      <td>days</td>\n",
              "      <td>decision</td>\n",
              "      <td>runs</td>\n",
              "      <td>right</td>\n",
              "      <td>problem</td>\n",
              "      <td>bought</td>\n",
              "      <td>quickly</td>\n",
              "      <td>buy</td>\n",
              "    </tr>\n",
              "    <tr>\n",
              "      <th>1</th>\n",
              "      <td>great</td>\n",
              "      <td>phone</td>\n",
              "      <td>works</td>\n",
              "      <td>good</td>\n",
              "      <td>quality</td>\n",
              "      <td>use</td>\n",
              "      <td>case</td>\n",
              "      <td>ve</td>\n",
              "      <td>mic</td>\n",
              "      <td>doesn</td>\n",
              "    </tr>\n",
              "    <tr>\n",
              "      <th>2</th>\n",
              "      <td>product</td>\n",
              "      <td>love</td>\n",
              "      <td>money</td>\n",
              "      <td>features</td>\n",
              "      <td>waste</td>\n",
              "      <td>thing</td>\n",
              "      <td>worthless</td>\n",
              "      <td>impressed</td>\n",
              "      <td>waaay</td>\n",
              "      <td>want</td>\n",
              "    </tr>\n",
              "    <tr>\n",
              "      <th>3</th>\n",
              "      <td>way</td>\n",
              "      <td>ear</td>\n",
              "      <td>wear</td>\n",
              "      <td>comfortable</td>\n",
              "      <td>holds</td>\n",
              "      <td>unless</td>\n",
              "      <td>clip</td>\n",
              "      <td>wonder</td>\n",
              "      <td>plug</td>\n",
              "      <td>music</td>\n",
              "    </tr>\n",
              "  </tbody>\n",
              "</table>\n",
              "</div>"
            ],
            "text/plain": [
              "         0             1      2  ...          7        8      9\n",
              "0  battery  disappointed   days  ...     bought  quickly    buy\n",
              "1    great         phone  works  ...         ve      mic  doesn\n",
              "2  product          love  money  ...  impressed    waaay   want\n",
              "3      way           ear   wear  ...     wonder     plug  music\n",
              "\n",
              "[4 rows x 10 columns]"
            ]
          },
          "metadata": {
            "tags": []
          },
          "execution_count": 22
        }
      ]
    },
    {
      "cell_type": "code",
      "metadata": {
        "id": "sIqyEh4OVYXZ",
        "colab_type": "code",
        "colab": {
          "base_uri": "https://localhost:8080/",
          "height": 173
        },
        "outputId": "56aa0f64-631f-4114-ad4c-d405e769bbd3"
      },
      "source": [
        "#KMeans \n",
        "from sklearn.cluster import KMeans\n",
        "km = KMeans(n_clusters=4, random_state=1234)\n",
        "labels_km = km.fit_predict(tdm)\n",
        "top10(labels_km)\n"
      ],
      "execution_count": 28,
      "outputs": [
        {
          "output_type": "execute_result",
          "data": {
            "text/html": [
              "<div>\n",
              "<style scoped>\n",
              "    .dataframe tbody tr th:only-of-type {\n",
              "        vertical-align: middle;\n",
              "    }\n",
              "\n",
              "    .dataframe tbody tr th {\n",
              "        vertical-align: top;\n",
              "    }\n",
              "\n",
              "    .dataframe thead th {\n",
              "        text-align: right;\n",
              "    }\n",
              "</style>\n",
              "<table border=\"1\" class=\"dataframe\">\n",
              "  <thead>\n",
              "    <tr style=\"text-align: right;\">\n",
              "      <th></th>\n",
              "      <th>0</th>\n",
              "      <th>1</th>\n",
              "      <th>2</th>\n",
              "      <th>3</th>\n",
              "      <th>4</th>\n",
              "      <th>5</th>\n",
              "      <th>6</th>\n",
              "      <th>7</th>\n",
              "      <th>8</th>\n",
              "      <th>9</th>\n",
              "    </tr>\n",
              "  </thead>\n",
              "  <tbody>\n",
              "    <tr>\n",
              "      <th>0</th>\n",
              "      <td>good</td>\n",
              "      <td>headset</td>\n",
              "      <td>quality</td>\n",
              "      <td>battery</td>\n",
              "      <td>sound</td>\n",
              "      <td>use</td>\n",
              "      <td>ear</td>\n",
              "      <td>recommend</td>\n",
              "      <td>work</td>\n",
              "      <td>service</td>\n",
              "    </tr>\n",
              "    <tr>\n",
              "      <th>1</th>\n",
              "      <td>phone</td>\n",
              "      <td>ve</td>\n",
              "      <td>cell</td>\n",
              "      <td>best</td>\n",
              "      <td>like</td>\n",
              "      <td>worst</td>\n",
              "      <td>new</td>\n",
              "      <td>does</td>\n",
              "      <td>did</td>\n",
              "      <td>buy</td>\n",
              "    </tr>\n",
              "    <tr>\n",
              "      <th>2</th>\n",
              "      <td>great</td>\n",
              "      <td>works</td>\n",
              "      <td>phone</td>\n",
              "      <td>price</td>\n",
              "      <td>deal</td>\n",
              "      <td>item</td>\n",
              "      <td>device</td>\n",
              "      <td>sound</td>\n",
              "      <td>worked</td>\n",
              "      <td>battery</td>\n",
              "    </tr>\n",
              "    <tr>\n",
              "      <th>3</th>\n",
              "      <td>product</td>\n",
              "      <td>great</td>\n",
              "      <td>excellent</td>\n",
              "      <td>price</td>\n",
              "      <td>good</td>\n",
              "      <td>recommend</td>\n",
              "      <td>buy</td>\n",
              "      <td>don</td>\n",
              "      <td>happy</td>\n",
              "      <td>really</td>\n",
              "    </tr>\n",
              "  </tbody>\n",
              "</table>\n",
              "</div>"
            ],
            "text/plain": [
              "         0        1          2        3  ...       6          7       8        9\n",
              "0     good  headset    quality  battery  ...     ear  recommend    work  service\n",
              "1    phone       ve       cell     best  ...     new       does     did      buy\n",
              "2    great    works      phone    price  ...  device      sound  worked  battery\n",
              "3  product    great  excellent    price  ...     buy        don   happy   really\n",
              "\n",
              "[4 rows x 10 columns]"
            ]
          },
          "metadata": {
            "tags": []
          },
          "execution_count": 28
        }
      ]
    },
    {
      "cell_type": "code",
      "metadata": {
        "id": "cVubb7NGWQ1Q",
        "colab_type": "code",
        "colab": {
          "base_uri": "https://localhost:8080/",
          "height": 173
        },
        "outputId": "e8f725ea-d6e3-46a0-9536-3f4de849277d"
      },
      "source": [
        "from sklearn.preprocessing import Normalizer\n",
        "nom = Normalizer(copy=False)\n",
        "pos = nom.fit_transform(tdm)\n",
        "km = KMeans(n_clusters=4, random_state=1234)\n",
        "labels_nom = km.fit_predict(tdm)\n",
        "top10(labels_nom)"
      ],
      "execution_count": 27,
      "outputs": [
        {
          "output_type": "execute_result",
          "data": {
            "text/html": [
              "<div>\n",
              "<style scoped>\n",
              "    .dataframe tbody tr th:only-of-type {\n",
              "        vertical-align: middle;\n",
              "    }\n",
              "\n",
              "    .dataframe tbody tr th {\n",
              "        vertical-align: top;\n",
              "    }\n",
              "\n",
              "    .dataframe thead th {\n",
              "        text-align: right;\n",
              "    }\n",
              "</style>\n",
              "<table border=\"1\" class=\"dataframe\">\n",
              "  <thead>\n",
              "    <tr style=\"text-align: right;\">\n",
              "      <th></th>\n",
              "      <th>0</th>\n",
              "      <th>1</th>\n",
              "      <th>2</th>\n",
              "      <th>3</th>\n",
              "      <th>4</th>\n",
              "      <th>5</th>\n",
              "      <th>6</th>\n",
              "      <th>7</th>\n",
              "      <th>8</th>\n",
              "      <th>9</th>\n",
              "    </tr>\n",
              "  </thead>\n",
              "  <tbody>\n",
              "    <tr>\n",
              "      <th>0</th>\n",
              "      <td>good</td>\n",
              "      <td>headset</td>\n",
              "      <td>quality</td>\n",
              "      <td>battery</td>\n",
              "      <td>sound</td>\n",
              "      <td>use</td>\n",
              "      <td>ear</td>\n",
              "      <td>recommend</td>\n",
              "      <td>work</td>\n",
              "      <td>service</td>\n",
              "    </tr>\n",
              "    <tr>\n",
              "      <th>1</th>\n",
              "      <td>phone</td>\n",
              "      <td>ve</td>\n",
              "      <td>cell</td>\n",
              "      <td>best</td>\n",
              "      <td>like</td>\n",
              "      <td>worst</td>\n",
              "      <td>new</td>\n",
              "      <td>does</td>\n",
              "      <td>did</td>\n",
              "      <td>buy</td>\n",
              "    </tr>\n",
              "    <tr>\n",
              "      <th>2</th>\n",
              "      <td>great</td>\n",
              "      <td>works</td>\n",
              "      <td>phone</td>\n",
              "      <td>price</td>\n",
              "      <td>deal</td>\n",
              "      <td>item</td>\n",
              "      <td>device</td>\n",
              "      <td>sound</td>\n",
              "      <td>worked</td>\n",
              "      <td>battery</td>\n",
              "    </tr>\n",
              "    <tr>\n",
              "      <th>3</th>\n",
              "      <td>product</td>\n",
              "      <td>great</td>\n",
              "      <td>excellent</td>\n",
              "      <td>price</td>\n",
              "      <td>good</td>\n",
              "      <td>recommend</td>\n",
              "      <td>buy</td>\n",
              "      <td>don</td>\n",
              "      <td>happy</td>\n",
              "      <td>really</td>\n",
              "    </tr>\n",
              "  </tbody>\n",
              "</table>\n",
              "</div>"
            ],
            "text/plain": [
              "         0        1          2        3  ...       6          7       8        9\n",
              "0     good  headset    quality  battery  ...     ear  recommend    work  service\n",
              "1    phone       ve       cell     best  ...     new       does     did      buy\n",
              "2    great    works      phone    price  ...  device      sound  worked  battery\n",
              "3  product    great  excellent    price  ...     buy        don   happy   really\n",
              "\n",
              "[4 rows x 10 columns]"
            ]
          },
          "metadata": {
            "tags": []
          },
          "execution_count": 27
        }
      ]
    },
    {
      "cell_type": "code",
      "metadata": {
        "id": "9c2PvnwWWs3q",
        "colab_type": "code",
        "colab": {
          "base_uri": "https://localhost:8080/",
          "height": 34
        },
        "outputId": "ccfc6c0d-98f0-4c2d-b7bd-3e77237e55ff"
      },
      "source": [
        "#LSA (잠재 의미 분석)\n",
        "tdm.shape"
      ],
      "execution_count": 29,
      "outputs": [
        {
          "output_type": "execute_result",
          "data": {
            "text/plain": [
              "(1000, 1000)"
            ]
          },
          "metadata": {
            "tags": []
          },
          "execution_count": 29
        }
      ]
    },
    {
      "cell_type": "code",
      "metadata": {
        "id": "9xfDIOEMXu4Y",
        "colab_type": "code",
        "colab": {}
      },
      "source": [
        "from sklearn.decomposition import TruncatedSVD\n",
        "#특이값 분해로 차원 축소\n",
        "svd = TruncatedSVD(n_components=30) #축소할 차원 수"
      ],
      "execution_count": 0,
      "outputs": []
    },
    {
      "cell_type": "code",
      "metadata": {
        "id": "ymOb4KYAXw4m",
        "colab_type": "code",
        "colab": {
          "base_uri": "https://localhost:8080/",
          "height": 34
        },
        "outputId": "9a0f3a75-7e7a-4071-9829-f5ddd12ce245"
      },
      "source": [
        "#svd.fit_transform()에 tdm을 넘겨줘서 차원을 축소한다.\n",
        "pos = svd.fit_transform(tdm)\n",
        "pos.shape"
      ],
      "execution_count": 39,
      "outputs": [
        {
          "output_type": "execute_result",
          "data": {
            "text/plain": [
              "(1000, 30)"
            ]
          },
          "metadata": {
            "tags": []
          },
          "execution_count": 39
        }
      ]
    },
    {
      "cell_type": "code",
      "metadata": {
        "id": "0-JA8u34X84P",
        "colab_type": "code",
        "colab": {}
      },
      "source": [
        "import matplotlib.pyplot as plt\n",
        "% matplotlib inline"
      ],
      "execution_count": 0,
      "outputs": []
    },
    {
      "cell_type": "code",
      "metadata": {
        "id": "2dVt1EffX_a_",
        "colab_type": "code",
        "colab": {
          "base_uri": "https://localhost:8080/",
          "height": 282
        },
        "outputId": "172c3882-a426-43cc-eb11-32e2c7dd24e8"
      },
      "source": [
        "dim1 = 0\n",
        "dim2 = 1\n",
        "plt.plot(pos[sentiment == 1, dim1], pos[sentiment == 1, dim2], 'ro')  # 긍정적인 코멘트 (빨간색)\n",
        "plt.plot(pos[sentiment == 0, dim1], pos[sentiment == 0, dim2], 'bo')  # 부정적인 코멘트 (파란색)"
      ],
      "execution_count": 33,
      "outputs": [
        {
          "output_type": "execute_result",
          "data": {
            "text/plain": [
              "[<matplotlib.lines.Line2D at 0x7f1fc5f7c588>]"
            ]
          },
          "metadata": {
            "tags": []
          },
          "execution_count": 33
        },
        {
          "output_type": "display_data",
          "data": {
            "image/png": "[encoded data removed]",
            "text/plain": [
              "<Figure size 432x288 with 1 Axes>"
            ]
          },
          "metadata": {
            "tags": []
          }
        }
      ]
    },
    {
      "cell_type": "code",
      "metadata": {
        "id": "Ob46ZRSMYIy4",
        "colab_type": "code",
        "colab": {
          "base_uri": "https://localhost:8080/",
          "height": 286
        },
        "outputId": "643443f7-924d-42dd-b2be-a49f2c5fd40f"
      },
      "source": [
        "#from sklearn.preprocessing import Normalizer\n",
        "norm = Normalizer(copy=False)\n",
        "pos2 = norm.fit_transform(pos)\n",
        "dim1 = 0\n",
        "dim2 = 1\n",
        "plt.plot(pos2[sentiment == 1, dim1], pos2[sentiment == 1, dim2], 'ro')  # 긍정적인 코멘트 (빨간색)\n",
        "plt.plot(pos2[sentiment == 0, dim1], pos2[sentiment == 0, dim2], 'bo')  # 부정적인 코멘트 (파란색)"
      ],
      "execution_count": 34,
      "outputs": [
        {
          "output_type": "execute_result",
          "data": {
            "text/plain": [
              "[<matplotlib.lines.Line2D at 0x7f1fc5f7c278>]"
            ]
          },
          "metadata": {
            "tags": []
          },
          "execution_count": 34
        },
        {
          "output_type": "display_data",
          "data": {
            "image/png": "[encoded data removed]",
            "text/plain": [
              "<Figure size 432x288 with 1 Axes>"
            ]
          },
          "metadata": {
            "tags": []
          }
        }
      ]
    },
    {
      "cell_type": "code",
      "metadata": {
        "id": "xJL-4JPcYPsJ",
        "colab_type": "code",
        "colab": {
          "base_uri": "https://localhost:8080/",
          "height": 238
        },
        "outputId": "70a658e3-8931-4953-d159-96e15e011373"
      },
      "source": [
        "#파이프라인 만들기\n",
        "from sklearn.pipeline import make_pipeline\n",
        "lsa = make_pipeline(svd, norm)\n",
        "lsa.transform(tdm)"
      ],
      "execution_count": 35,
      "outputs": [
        {
          "output_type": "execute_result",
          "data": {
            "text/plain": [
              "array([[ 0.07836849,  0.0279486 ,  0.02310924, ...,  0.27758617,\n",
              "         0.18269635,  0.71269153],\n",
              "       [ 0.14566133,  0.45902867,  0.27704249, ...,  0.00598827,\n",
              "         0.04965643, -0.10639147],\n",
              "       [ 0.71794841, -0.01378078, -0.52331615, ...,  0.01107483,\n",
              "        -0.04457857, -0.06192957],\n",
              "       ...,\n",
              "       [ 0.0679093 ,  0.03914935,  0.02769027, ..., -0.15853669,\n",
              "         0.29613757, -0.05629534],\n",
              "       [ 0.07056649,  0.01574286,  0.09374321, ..., -0.31737757,\n",
              "        -0.23152876,  0.22020626],\n",
              "       [ 0.06319896,  0.00769235,  0.03622326, ..., -0.1273838 ,\n",
              "        -0.067629  ,  0.33296666]])"
            ]
          },
          "metadata": {
            "tags": []
          },
          "execution_count": 35
        }
      ]
    },
    {
      "cell_type": "code",
      "metadata": {
        "id": "hIJugU1QYer4",
        "colab_type": "code",
        "colab": {
          "base_uri": "https://localhost:8080/",
          "height": 207
        },
        "outputId": "c68ab27c-90b1-4c9d-9838-b4d5659e4850"
      },
      "source": [
        "#LDA 잠재 디리클레 하당\n",
        "#.get_feature_names() 을 통해 각 차원에 해당하는 단어 목록을 가져오자.\n",
        "with open('ai_news.pkl','rb') as f:\n",
        "  data = joblib.load(f)\n",
        "\n",
        "print(data)\n",
        "locals().update(data)\n",
        "\n",
        "words = vectorizer.get_feature_names()\n",
        "#print(words)\n",
        "word_dict = dict(enumerate(words))"
      ],
      "execution_count": 53,
      "outputs": [
        {
          "output_type": "stream",
          "text": [
            "{'vectorizer': CountVectorizer(analyzer='word', binary=False, decode_error='strict',\n",
            "                dtype=<class 'numpy.int64'>, encoding='utf-8', input='content',\n",
            "                lowercase=True, max_df=1.0, max_features=1000, min_df=1,\n",
            "                ngram_range=(1, 1), preprocessor=None, stop_words=None,\n",
            "                strip_accents=None, token_pattern='(?u)\\\\b\\\\w\\\\w+\\\\b',\n",
            "                tokenizer=<function get_nouns at 0x7f1fc61ff488>,\n",
            "                vocabulary=None), 'tdm': <47917x1000 sparse matrix of type '<class 'numpy.int64'>'\n",
            "\twith 914010 stored elements in Compressed Sparse Row format>}\n"
          ],
          "name": "stdout"
        },
        {
          "output_type": "stream",
          "text": [
            "/usr/local/lib/python3.6/dist-packages/sklearn/base.py:318: UserWarning: Trying to unpickle estimator CountVectorizer from version 0.19.1 when using version 0.22.2.post1. This might lead to breaking code or invalid results. Use at your own risk.\n",
            "  UserWarning)\n"
          ],
          "name": "stderr"
        }
      ]
    },
    {
      "cell_type": "code",
      "metadata": {
        "id": "QAUqA_BkZpRv",
        "colab_type": "code",
        "colab": {
          "base_uri": "https://localhost:8080/",
          "height": 51
        },
        "outputId": "21cabf43-9220-4c01-a79e-47cc06d0f573"
      },
      "source": [
        "print(word_dict[0])\n",
        "print(word_dict[100])"
      ],
      "execution_count": 44,
      "outputs": [
        {
          "output_type": "stream",
          "text": [
            ".co\n",
            "과학부\n"
          ],
          "name": "stdout"
        }
      ]
    },
    {
      "cell_type": "code",
      "metadata": {
        "id": "T2e7zfLSZ6WI",
        "colab_type": "code",
        "colab": {
          "base_uri": "https://localhost:8080/",
          "height": 34
        },
        "outputId": "ba30e960-a34e-4db1-ed1d-875f46be7d16"
      },
      "source": [
        "#tdm to gensim\n",
        "from gensim.matutils import Sparse2Corpus\n",
        "corpus = Sparse2Corpus(tdm.T)\n",
        "corpus"
      ],
      "execution_count": 45,
      "outputs": [
        {
          "output_type": "execute_result",
          "data": {
            "text/plain": [
              "<gensim.matutils.Sparse2Corpus at 0x7f1fbc8a34a8>"
            ]
          },
          "metadata": {
            "tags": []
          },
          "execution_count": 45
        }
      ]
    },
    {
      "cell_type": "code",
      "metadata": {
        "id": "dkbWJFYPcw2D",
        "colab_type": "code",
        "colab": {}
      },
      "source": [
        "#https://coredottoday.github.io/2018/09/17/%EB%AA%A8%EB%8D%B8-%ED%8C%8C%EB%9D%BC%EB%AF%B8%ED%84%B0-%ED%8A%9C%EB%8B%9D/"
      ],
      "execution_count": 0,
      "outputs": []
    },
    {
      "cell_type": "code",
      "metadata": {
        "id": "iO4Lg6fKaB8W",
        "colab_type": "code",
        "colab": {
          "base_uri": "https://localhost:8080/",
          "height": 221
        },
        "outputId": "e2375b3e-3765-4965-8d6b-baf7e3bbecf6"
      },
      "source": [
        "from gensim.models.ldamodel import LdaModel\n",
        "lda = LdaModel(corpus=corpus, #corpus\n",
        "               num_topics=100, #\n",
        "               passes=3, #계산횟수 기본값 1\n",
        "               iterations=100, #계산횟수 50 기본값\n",
        "               id2word=word_dict,\n",
        "               random_state=123) #계산 랜덤부분 고정시켜 계산결과를 일정하게\n",
        "\n",
        "lda.show_topic(0)"
      ],
      "execution_count": 46,
      "outputs": [
        {
          "output_type": "stream",
          "text": [
            "/usr/local/lib/python3.6/dist-packages/gensim/models/ldamodel.py:1023: RuntimeWarning: divide by zero encountered in log\n",
            "  diff = np.log(self.expElogbeta)\n"
          ],
          "name": "stderr"
        },
        {
          "output_type": "execute_result",
          "data": {
            "text/plain": [
              "[('문제', 0.294138),\n",
              " ('해결', 0.14847381),\n",
              " ('특징', 0.10860987),\n",
              " ('편리', 0.089724414),\n",
              " ('자유', 0.07351054),\n",
              " ('설정', 0.06691065),\n",
              " ('메시지', 0.061050657),\n",
              " ('판교', 0.042636957),\n",
              " ('마음', 0.041259587),\n",
              " ('인공지능', 0.03351779)]"
            ]
          },
          "metadata": {
            "tags": []
          },
          "execution_count": 46
        }
      ]
    },
    {
      "cell_type": "code",
      "metadata": {
        "id": "-x-ncEILakA2",
        "colab_type": "code",
        "colab": {
          "base_uri": "https://localhost:8080/",
          "height": 187
        },
        "outputId": "4166c377-e59e-465e-c12d-b1370785c4ec"
      },
      "source": [
        "lda.show_topic(2)"
      ],
      "execution_count": 47,
      "outputs": [
        {
          "output_type": "execute_result",
          "data": {
            "text/plain": [
              "[('운영', 0.2148323),\n",
              " ('공개', 0.20752405),\n",
              " ('등장', 0.13203163),\n",
              " ('보호', 0.07796013),\n",
              " ('시리즈', 0.07460456),\n",
              " ('인공지능', 0.051795576),\n",
              " ('체제', 0.04121668),\n",
              " ('대출', 0.040621396),\n",
              " ('작품', 0.030166924),\n",
              " ('당시', 0.030089743)]"
            ]
          },
          "metadata": {
            "tags": []
          },
          "execution_count": 47
        }
      ]
    },
    {
      "cell_type": "code",
      "metadata": {
        "id": "YfvL3T4Cak9P",
        "colab_type": "code",
        "colab": {
          "base_uri": "https://localhost:8080/",
          "height": 187
        },
        "outputId": "5de7e405-8ab9-45e5-a02e-044f3777081c"
      },
      "source": [
        "lda.show_topic(3)"
      ],
      "execution_count": 48,
      "outputs": [
        {
          "output_type": "execute_result",
          "data": {
            "text/plain": [
              "[('인공지능', 0.31729183),\n",
              " ('인간', 0.19650847),\n",
              " ('능력', 0.051983822),\n",
              " ('생각', 0.03463213),\n",
              " ('발달', 0.030194754),\n",
              " ('사람', 0.022058388),\n",
              " ('컴퓨터', 0.0218302),\n",
              " ('기술', 0.017335868),\n",
              " ('인류', 0.01571043),\n",
              " ('지능', 0.015589345)]"
            ]
          },
          "metadata": {
            "tags": []
          },
          "execution_count": 48
        }
      ]
    },
    {
      "cell_type": "code",
      "metadata": {
        "id": "Qe6ZttTVbfqe",
        "colab_type": "code",
        "colab": {
          "base_uri": "https://localhost:8080/",
          "height": 255
        },
        "outputId": "0ebf9e8c-9c60-44c2-ebfe-a17c3f1598c5"
      },
      "source": [
        "#문서 주제 확인\n",
        "row = tdm[0]\n",
        "doc = list(zip(row.indices, row.data))\n",
        "doc\n"
      ],
      "execution_count": 55,
      "outputs": [
        {
          "output_type": "execute_result",
          "data": {
            "text/plain": [
              "[(901, 1),\n",
              " (996, 1),\n",
              " (640, 1),\n",
              " (564, 1),\n",
              " (992, 1),\n",
              " (523, 1),\n",
              " (32, 1),\n",
              " (679, 1),\n",
              " (562, 1),\n",
              " (52, 2),\n",
              " (468, 1),\n",
              " (763, 2),\n",
              " (540, 1),\n",
              " (780, 1)]"
            ]
          },
          "metadata": {
            "tags": []
          },
          "execution_count": 55
        }
      ]
    },
    {
      "cell_type": "code",
      "metadata": {
        "id": "jBlK4CY9bnCJ",
        "colab_type": "code",
        "colab": {
          "base_uri": "https://localhost:8080/",
          "height": 255
        },
        "outputId": "5eeb9ef1-dd26-443f-c465-d62dfb1b215b"
      },
      "source": [
        "doc_words = [(words[i], n) for i, n in doc]\n",
        "doc_words"
      ],
      "execution_count": 56,
      "outputs": [
        {
          "output_type": "execute_result",
          "data": {
            "text/plain": [
              "[('특징', 1),\n",
              " ('효과', 1),\n",
              " ('인공지능', 1),\n",
              " ('완성', 1),\n",
              " ('활용', 1),\n",
              " ('엔진', 1),\n",
              " ('개발', 1),\n",
              " ('자체', 1),\n",
              " ('올해', 1),\n",
              " ('게임', 2),\n",
              " ('시작', 1),\n",
              " ('준비', 2),\n",
              " ('열풍', 1),\n",
              " ('지난해', 1)]"
            ]
          },
          "metadata": {
            "tags": []
          },
          "execution_count": 56
        }
      ]
    },
    {
      "cell_type": "code",
      "metadata": {
        "id": "4x7lNLI9bq-Z",
        "colab_type": "code",
        "colab": {
          "base_uri": "https://localhost:8080/",
          "height": 153
        },
        "outputId": "4f3be4d1-6819-402e-c7a2-b45b4af8d113"
      },
      "source": [
        "#토픽 비율 확인\n",
        "lda.get_document_topics(doc)"
      ],
      "execution_count": 57,
      "outputs": [
        {
          "output_type": "execute_result",
          "data": {
            "text/plain": [
              "[(0, 0.068981856),\n",
              " (12, 0.28601968),\n",
              " (24, 0.06028754),\n",
              " (26, 0.073085986),\n",
              " (33, 0.11706411),\n",
              " (45, 0.06848155),\n",
              " (80, 0.15148912),\n",
              " (99, 0.12047253)]"
            ]
          },
          "metadata": {
            "tags": []
          },
          "execution_count": 57
        }
      ]
    },
    {
      "cell_type": "code",
      "metadata": {
        "id": "tngEuFu0b13Z",
        "colab_type": "code",
        "colab": {}
      },
      "source": [
        "lda.save('lda_test.lda')\n",
        "lda2 - LdaModel.load('lda_test.lda') "
      ],
      "execution_count": 0,
      "outputs": []
    }
  ]
}